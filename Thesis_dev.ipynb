{
  "cells": [
    {
      "cell_type": "markdown",
      "metadata": {
        "id": "Z71WUV70iDTB"
      },
      "source": [
        "# PatchCore Transformed"
      ]
    },
    {
      "cell_type": "code",
      "source": [
        "from google.colab import drive\n",
        "drive.mount('/content/drive')"
      ],
      "metadata": {
        "colab": {
          "base_uri": "https://localhost:8080/"
        },
        "id": "nfYVH-o0kTk0",
        "outputId": "7149913b-ef1d-4c9a-f11e-c3d1a4198c30"
      },
      "execution_count": 1,
      "outputs": [
        {
          "output_type": "stream",
          "name": "stdout",
          "text": [
            "Mounted at /content/drive\n"
          ]
        }
      ]
    },
    {
      "cell_type": "markdown",
      "metadata": {
        "id": "YaLzp2B6iDTE"
      },
      "source": [
        "## Import"
      ]
    },
    {
      "cell_type": "code",
      "execution_count": 3,
      "metadata": {
        "id": "NecAleryiDTF"
      },
      "outputs": [],
      "source": [
        "import importlib\n",
        "\n",
        "import os\n",
        "import cv2\n",
        "import torch\n",
        "import numpy as np\n",
        "import matplotlib.pyplot as plt\n",
        "\n",
        "from PIL import Image\n",
        "from torch.utils.data import DataLoader\n",
        "\n",
        "import Thesis_dev\n",
        "import Utility\n",
        "from Thesis_dev import MVTecDataset, PatchCoreViT, VanillaPatchCore, PatchCoreSWin"
      ]
    },
    {
      "cell_type": "code",
      "execution_count": null,
      "metadata": {
        "id": "c7yWn1ifiDTI"
      },
      "outputs": [],
      "source": [
        "folder_name = \"/content/drive/MyDrive/bottle_xs\"\n",
        "\n",
        "train_path, test_path = os.path.join(folder_name, \"train\", \"good\"), os.path.join(folder_name, \"test\")\n",
        "train_paths, test_paths = [train_path], [ os.path.join(test_path, anomaly) for anomaly in os.listdir(test_path) if anomaly[0] != '.']"
      ]
    },
    {
      "cell_type": "markdown",
      "source": [
        "# Examples"
      ],
      "metadata": {
        "id": "bKE4DURbtwj2"
      }
    },
    {
      "cell_type": "markdown",
      "source": [
        "## Vanilla"
      ],
      "metadata": {
        "id": "siZ8eGSD5AUo"
      }
    },
    {
      "cell_type": "code",
      "source": [
        "importlib.reload(Thesis_dev)\n",
        "importlib.reload(Utility)\n",
        "\n",
        "backbone = \"timm/wide_resnet50_2.tv_in1k\"\n",
        "layers = [\"layer2\", \"layer3\"]\n",
        "\n",
        "pc = VanillaPatchCore(layers=layers, backbone=backbone, f_coreset=1)\n",
        "pc.fit(train_paths)\n",
        "\n",
        "pc.evaluate(test_paths, validation_flag = True)"
      ],
      "metadata": {
        "colab": {
          "base_uri": "https://localhost:8080/"
        },
        "collapsed": true,
        "id": "Gz1-bwqX5E_z",
        "outputId": "152d7e63-aa66-4a04-9a0a-82ec715ece3e"
      },
      "execution_count": null,
      "outputs": [
        {
          "output_type": "stream",
          "name": "stdout",
          "text": [
            "[INFO][__init__] Model PatchCore loaded on device: cuda\n"
          ]
        },
        {
          "output_type": "stream",
          "name": "stderr",
          "text": [
            "100%|██████████| 5/5 [00:00<00:00, 18.91it/s]\n",
            "100%|██████████| 10/10 [00:11<00:00,  1.12s/it]\n"
          ]
        },
        {
          "output_type": "stream",
          "name": "stdout",
          "text": [
            "Val: IMAGE Level ROCAUC: 1.0\n",
            "Val: PIXEL Level ROCAUC: 0.9523194638170911\n",
            "[INFO][evaluate] Image Level ROCAUC: 1.000\n",
            "[INFO][evaluate] Initial Score Threshold: 2.922 F1Score: 0.889\n",
            "[INFO][evaluate] Optimal Score Threshold: 1.522 F1Score: 1.000\n",
            "[INFO][evaluate] Average Inference time with batch_size=1: 0.082s\n"
          ]
        }
      ]
    },
    {
      "cell_type": "code",
      "source": [
        "filepath = \"/content/drive/MyDrive/bottle_xs/test/broken_large/000.png\"\n",
        "img = Image.open(filepath).convert(\"RGB\")\n",
        "sample = pc.processor(img)\n",
        "sample_torch = torch.Tensor(sample['pixel_values'][0]).unsqueeze(0)\n",
        "sample['pixel_values'][0]=sample_torch\n",
        "\n",
        "temp = pc.extract_embeddings(sample_torch)"
      ],
      "metadata": {
        "id": "mxGUmLuj5bFP"
      },
      "execution_count": null,
      "outputs": []
    },
    {
      "cell_type": "markdown",
      "source": [
        "## ViT"
      ],
      "metadata": {
        "id": "4sX-3NWj49wm"
      }
    },
    {
      "cell_type": "code",
      "source": [
        "# Config\n",
        "backbone = \"google/vit-base-patch16-224-in21k\"\n",
        "layers = [4]\n",
        "\n",
        "# Training ViT\n",
        "pcViT = PatchCoreViT(layers=layers, backbone=backbone, f_coreset=1)\n",
        "pcViT.fit(train_paths)\n",
        "\n",
        "# Testing\n",
        "pcViT.evaluate(test_paths, validation_flag = True)"
      ],
      "metadata": {
        "id": "IYDEdtYmmH2H"
      },
      "execution_count": null,
      "outputs": []
    },
    {
      "cell_type": "code",
      "source": [
        "# Predict one sample\n",
        "filepath = \"/content/drive/MyDrive/bottle_xs/test/broken_large/000.png\"\n",
        "img = Image.open(filepath).convert(\"RGB\")\n",
        "sample = pcViT.processor(img)\n",
        "sample_torch = torch.Tensor(sample['pixel_values'][0]).unsqueeze(0)\n",
        "sample['pixel_values'][0]=sample_torch\n",
        "score, segm_map = pcViT.predict(sample)\n",
        "\n",
        "# plot\n",
        "plt.imshow((cv2.resize(np.array(img), (224,224))))\n",
        "plt.imshow(segm_map.reshape(224,224), alpha=0.7)\n",
        "plt.show()"
      ],
      "metadata": {
        "id": "VxGzj7qNI_yw"
      },
      "execution_count": null,
      "outputs": []
    },
    {
      "cell_type": "code",
      "source": [
        "importlib.reload(Utility)\n",
        "Utility.create_gif(filepath, pcViT)"
      ],
      "metadata": {
        "id": "EHuySTRtjxV2"
      },
      "execution_count": null,
      "outputs": []
    },
    {
      "cell_type": "markdown",
      "source": [
        "## SWin"
      ],
      "metadata": {
        "id": "0O5E7WUTDuo8"
      }
    },
    {
      "cell_type": "code",
      "source": [
        "importlib.reload(Thesis_dev)\n",
        "importlib.reload(Utility)\n",
        "\n",
        "from Thesis_dev import PatchCoreSWin\n",
        "\n",
        "backbone = \"microsoft/swin-small-patch4-window7-224\"\n",
        "\n",
        "pc = PatchCoreSWin(layers=[2], blocks=[0,1,2,3], backbone=backbone, f_coreset=1)\n",
        "pc.fit(train_paths)\n",
        "\n",
        "pc.evaluate(test_paths, validation_flag = True)"
      ],
      "metadata": {
        "id": "q782MCxEDv4v"
      },
      "execution_count": null,
      "outputs": []
    },
    {
      "cell_type": "markdown",
      "source": [
        "# Evaluations"
      ],
      "metadata": {
        "id": "-YrbbXLXzmZL"
      }
    },
    {
      "cell_type": "code",
      "source": [
        "! pip install wget"
      ],
      "metadata": {
        "colab": {
          "base_uri": "https://localhost:8080/"
        },
        "collapsed": true,
        "id": "td5luI3KEd3f",
        "outputId": "15fb24d2-0be9-4f81-a470-2eca3bb6ebba"
      },
      "execution_count": 4,
      "outputs": [
        {
          "output_type": "stream",
          "name": "stdout",
          "text": [
            "Collecting wget\n",
            "  Downloading wget-3.2.zip (10 kB)\n",
            "  Preparing metadata (setup.py) ... \u001b[?25l\u001b[?25hdone\n",
            "Building wheels for collected packages: wget\n",
            "  Building wheel for wget (setup.py) ... \u001b[?25l\u001b[?25hdone\n",
            "  Created wheel for wget: filename=wget-3.2-py3-none-any.whl size=9655 sha256=6872bff956088e6c9c11c70b2b5c85812abc721c18be5008a798978f80997b0b\n",
            "  Stored in directory: /root/.cache/pip/wheels/40/b3/0f/a40dbd1c6861731779f62cc4babcb234387e11d697df70ee97\n",
            "Successfully built wget\n",
            "Installing collected packages: wget\n",
            "Successfully installed wget-3.2\n"
          ]
        }
      ]
    },
    {
      "cell_type": "code",
      "source": [
        "import wget\n",
        "import shutil"
      ],
      "metadata": {
        "id": "pj7AzgoxuY-P"
      },
      "execution_count": 5,
      "outputs": []
    },
    {
      "cell_type": "code",
      "source": [
        "class_links = {\n",
        "    \"bottle\": \"https://www.mydrive.ch/shares/38536/3830184030e49fe74747669442f0f282/download/420937370-1629951468/bottle.tar.xz\",\n",
        "    \"cable\": \"https://www.mydrive.ch/shares/38536/3830184030e49fe74747669442f0f282/download/420937413-1629951498/cable.tar.xz\",\n",
        "    \"capsule\": \"https://www.mydrive.ch/shares/38536/3830184030e49fe74747669442f0f282/download/420937454-1629951595/capsule.tar.xz\",\n",
        "    \"carpet\": \"https://www.mydrive.ch/shares/38536/3830184030e49fe74747669442f0f282/download/420937484-1629951672/carpet.tar.xz\",\n",
        "    \"grid\": \"https://www.mydrive.ch/shares/38536/3830184030e49fe74747669442f0f282/download/420937487-1629951814/grid.tar.xz\",\n",
        "    \"hazelnut\": \"https://www.mydrive.ch/shares/38536/3830184030e49fe74747669442f0f282/download/420937545-1629951845/hazelnut.tar.xz\",\n",
        "    \"leather\": \"https://www.mydrive.ch/shares/38536/3830184030e49fe74747669442f0f282/download/420937607-1629951964/leather.tar.xz\",\n",
        "    \"metal_nut\": \"https://www.mydrive.ch/shares/38536/3830184030e49fe74747669442f0f282/download/420937637-1629952063/metal_nut.tar.xz\",\n",
        "    \"pill\": \"https://www.mydrive.ch/shares/43421/11a215a5749fcfb75e331ddd5f8e43ee/download/420938129-1629953099/pill.tar.xz\",\n",
        "    \"screw\": \"https://www.mydrive.ch/shares/38536/3830184030e49fe74747669442f0f282/download/420938130-1629953152/screw.tar.xz\",\n",
        "    \"tile\": \"https://www.mydrive.ch/shares/38536/3830184030e49fe74747669442f0f282/download/420938133-1629953189/tile.tar.xz\",\n",
        "    \"toothbrush\": \"https://www.mydrive.ch/shares/38536/3830184030e49fe74747669442f0f282/download/420938134-1629953256/toothbrush.tar.xz\",\n",
        "    \"transistor\": \"https://www.mydrive.ch/shares/38536/3830184030e49fe74747669442f0f282/download/420938166-1629953277/transistor.tar.xz\",\n",
        "    \"wood\": \"https://www.mydrive.ch/shares/38536/3830184030e49fe74747669442f0f282/download/420938383-1629953354/wood.tar.xz\",\n",
        "    \"zipper\": \"https://www.mydrive.ch/shares/38536/3830184030e49fe74747669442f0f282/download/420938385-1629953449/zipper.tar.xz\"\n",
        "}"
      ],
      "metadata": {
        "id": "BkdldrCbt_jl"
      },
      "execution_count": 6,
      "outputs": []
    },
    {
      "cell_type": "code",
      "source": [
        "# Download duration 6m 5s\n",
        "for key in list(class_links.keys())[0:2]: # TODO_CHANGE\n",
        "  os.mkdir(key)\n",
        "  file_path = wget.download(class_links[key], key)\n",
        "  if os.path.exists(file_path):\n",
        "    # Extract the file if it's a tar.xz file\n",
        "    if file_path.endswith('.tar.xz'):\n",
        "      shutil.unpack_archive(file_path, extract_dir=key)\n",
        "      os.remove(file_path)\n",
        "      print(f\"File {key} downloaded and extracted successfully.\")\n",
        "    else:\n",
        "      print(f\"Failed to download the file {key}.\")"
      ],
      "metadata": {
        "id": "HQ7Z95E_uVXy",
        "colab": {
          "base_uri": "https://localhost:8080/"
        },
        "collapsed": true,
        "outputId": "11e5cf26-90f0-4187-fbac-7c3fb40739e2"
      },
      "execution_count": 7,
      "outputs": [
        {
          "output_type": "stream",
          "name": "stdout",
          "text": [
            "File bottle downloaded and extracted successfully.\n",
            "File cable downloaded and extracted successfully.\n"
          ]
        }
      ]
    },
    {
      "cell_type": "code",
      "source": [
        "# remove\n",
        "# shutil.rmtree(\"bottle\")\n",
        "# importlib.reload(patchcore_dev)"
      ],
      "metadata": {
        "id": "eAqeITnNufRS"
      },
      "execution_count": null,
      "outputs": []
    },
    {
      "cell_type": "code",
      "source": [
        "def print_results(results):\n",
        "  print(\"\\nCLASS BREAKDOWN\")\n",
        "  misclassified = average = 0\n",
        "  for className in results.keys():\n",
        "    result = results[className]\n",
        "    misclassified = misclassified + result[\"cm\"][0][1] + result[\"cm\"][1][0]\n",
        "    average = average + result['auc']\n",
        "    print(f\"ROCAUC: {result['auc']:.3f} \\t\\tf1_score: {result['prfs'][2]:.3f} \\t{className}\")\n",
        "\n",
        "  print()\n",
        "  average = average/len(results.keys())\n",
        "\n",
        "  print(\"\\nSUMMARY\")\n",
        "  print(f\"Avg AUC:{average:.3f} \\t\\t Total Misclassified={misclassified}\")"
      ],
      "metadata": {
        "id": "VEuxKMgau3pa"
      },
      "execution_count": 34,
      "outputs": []
    },
    {
      "cell_type": "markdown",
      "source": [
        "## Vanilla\n"
      ],
      "metadata": {
        "id": "pYVwkUk8GRlV"
      }
    },
    {
      "cell_type": "markdown",
      "source": [
        "Single Layer Perfomance"
      ],
      "metadata": {
        "id": "qQLLK-1iLzeF"
      }
    },
    {
      "cell_type": "code",
      "source": [
        "importlib.reload(Thesis_dev)\n",
        "importlib.reload(Utility)\n",
        "\n",
        "from Thesis_dev import VanillaPatchCore\n",
        "\n",
        "layers = [\"layer1\", \"layer2\", \"layer3\", \"layer4\"]\n",
        "backbone = \"timm/wide_resnet50_2.tv_in1k\"\n",
        "f_coreset = 0.0062\n",
        "\n",
        "for layer in layers:\n",
        "  print()\n",
        "  print(f\"{layer}\")\n",
        "  results = {}\n",
        "  base_path = \"/content/\"\n",
        "\n",
        "  for key in list(class_links)[0:2]: # TODO_CHANGE\n",
        "    print()\n",
        "    print(key)\n",
        "    temp_path = os.path.join(base_path, key, key)\n",
        "\n",
        "    train_path, test_path  = os.path.join(temp_path, \"train\", \"good\"), os.path.join(temp_path, \"test\")\n",
        "    train_paths, test_paths= [train_path], [os.path.join(test_path,path) for path in os.listdir(test_path)]\n",
        "\n",
        "    # Train & Evaluate\n",
        "    model = VanillaPatchCore(layers=[layer], backbone=backbone, f_coreset=f_coreset)\n",
        "    model.fit(train_paths)\n",
        "    model.evaluate(test_paths, validation_flag = True)\n",
        "\n",
        "    # Save model results\n",
        "    temp_result = {}\n",
        "    temp_result[\"cm\"] = model.cm\n",
        "    temp_result[\"prfs\"] = model.prfs\n",
        "    temp_result[\"auc\"] = model.auc\n",
        "\n",
        "    results[key] = temp_result\n",
        "\n",
        "  # Print results\n",
        "  print_results(results)"
      ],
      "metadata": {
        "colab": {
          "base_uri": "https://localhost:8080/",
          "height": 1000
        },
        "id": "xd-_uNQNGtVb",
        "outputId": "92020156-c551-493c-e399-bf8ccfbdd032"
      },
      "execution_count": 35,
      "outputs": [
        {
          "output_type": "stream",
          "name": "stdout",
          "text": [
            "\n",
            "layer1\n",
            "\n",
            "bottle\n",
            "[INFO][__init__] Model PatchCore loaded on device: cuda\n"
          ]
        },
        {
          "output_type": "stream",
          "name": "stderr",
          "text": [
            "100%|██████████| 209/209 [00:11<00:00, 18.06it/s]\n"
          ]
        },
        {
          "output_type": "stream",
          "name": "stdout",
          "text": [
            "Error: could not project vectors. Please increase `eps`.\n",
            "Start Coreset Subsampling...\n"
          ]
        },
        {
          "output_type": "stream",
          "name": "stderr",
          "text": [
            "100%|██████████| 4062/4062 [00:34<00:00, 117.56it/s]\n",
            "100%|██████████| 83/83 [00:04<00:00, 18.82it/s]\n"
          ]
        },
        {
          "output_type": "stream",
          "name": "stdout",
          "text": [
            "Val: IMAGE Level ROCAUC: 1.0\n",
            "Val: PIXEL Level ROCAUC: 0.9545156092161134\n",
            "[INFO][evaluate] Image Level ROCAUC: 1.000\n",
            "[INFO][evaluate] Initial Score Threshold: 0.957 F1Score: 0.992\n",
            "[INFO][evaluate] Optimal Score Threshold: 0.947 F1Score: 1.000\n",
            "[INFO][evaluate] Average Inference time with batch_size=1: 0.017s\n",
            "\n",
            "cable\n",
            "[INFO][__init__] Model PatchCore loaded on device: cuda\n"
          ]
        },
        {
          "output_type": "stream",
          "name": "stderr",
          "text": [
            "100%|██████████| 224/224 [00:16<00:00, 13.98it/s]\n"
          ]
        },
        {
          "output_type": "stream",
          "name": "stdout",
          "text": [
            "Error: could not project vectors. Please increase `eps`.\n",
            "Start Coreset Subsampling...\n"
          ]
        },
        {
          "output_type": "stream",
          "name": "stderr",
          "text": [
            "100%|██████████| 4354/4354 [00:39<00:00, 111.46it/s]\n",
            "100%|██████████| 150/150 [00:12<00:00, 11.65it/s]\n"
          ]
        },
        {
          "output_type": "stream",
          "name": "stdout",
          "text": [
            "Val: IMAGE Level ROCAUC: 0.8688155922038979\n",
            "Val: PIXEL Level ROCAUC: 0.9409174400730229\n",
            "[INFO][evaluate] Image Level ROCAUC: 0.869\n",
            "[INFO][evaluate] Initial Score Threshold: 1.219 F1Score: 0.842\n",
            "[INFO][evaluate] Optimal Score Threshold: 1.209 F1Score: 0.850\n",
            "[INFO][evaluate] Average Inference time with batch_size=1: 0.023s\n",
            "CLASS BREAKDOWN\n",
            "ROCAUC: 1.000 \t\tf1_score: 1.000 \tbottle\n",
            "ROCAUC: 0.869 \t\tf1_score: 0.850 \tcable\n",
            "\n",
            "SUMMARY\n",
            "Avg AUC:0.934 \t\t Total Misclassified=29\n",
            "\n",
            "layer2\n",
            "\n",
            "bottle\n",
            "[INFO][__init__] Model PatchCore loaded on device: cuda\n"
          ]
        },
        {
          "output_type": "stream",
          "name": "stderr",
          "text": [
            "100%|██████████| 209/209 [00:10<00:00, 19.29it/s]\n"
          ]
        },
        {
          "output_type": "stream",
          "name": "stdout",
          "text": [
            "Start Coreset Subsampling...\n"
          ]
        },
        {
          "output_type": "stream",
          "name": "stderr",
          "text": [
            "100%|██████████| 1014/1014 [00:05<00:00, 200.19it/s]\n",
            "100%|██████████| 83/83 [00:06<00:00, 13.73it/s]\n"
          ]
        },
        {
          "output_type": "stream",
          "name": "stdout",
          "text": [
            "Val: IMAGE Level ROCAUC: 1.0\n",
            "Val: PIXEL Level ROCAUC: 0.9665774067837939\n",
            "[INFO][evaluate] Image Level ROCAUC: 1.000\n",
            "[INFO][evaluate] Initial Score Threshold: 1.369 F1Score: 0.992\n",
            "[INFO][evaluate] Optimal Score Threshold: 1.179 F1Score: 1.000\n",
            "[INFO][evaluate] Average Inference time with batch_size=1: 0.021s\n",
            "\n",
            "cable\n",
            "[INFO][__init__] Model PatchCore loaded on device: cuda\n"
          ]
        },
        {
          "output_type": "stream",
          "name": "stderr",
          "text": [
            "100%|██████████| 224/224 [00:16<00:00, 13.53it/s]\n"
          ]
        },
        {
          "output_type": "stream",
          "name": "stdout",
          "text": [
            "Start Coreset Subsampling...\n"
          ]
        },
        {
          "output_type": "stream",
          "name": "stderr",
          "text": [
            " 79%|███████▉  | 862/1087 [00:04<00:01, 189.06it/s]\n"
          ]
        },
        {
          "output_type": "error",
          "ename": "KeyboardInterrupt",
          "evalue": "",
          "traceback": [
            "\u001b[0;31m---------------------------------------------------------------------------\u001b[0m",
            "\u001b[0;31mKeyboardInterrupt\u001b[0m                         Traceback (most recent call last)",
            "\u001b[0;32m/tmp/ipython-input-2223731990.py\u001b[0m in \u001b[0;36m<cell line: 0>\u001b[0;34m()\u001b[0m\n\u001b[1;32m     24\u001b[0m     \u001b[0;31m# Train & Evaluate\u001b[0m\u001b[0;34m\u001b[0m\u001b[0;34m\u001b[0m\u001b[0m\n\u001b[1;32m     25\u001b[0m     \u001b[0mmodel\u001b[0m \u001b[0;34m=\u001b[0m \u001b[0mVanillaPatchCore\u001b[0m\u001b[0;34m(\u001b[0m\u001b[0mlayers\u001b[0m\u001b[0;34m=\u001b[0m\u001b[0;34m[\u001b[0m\u001b[0mlayer\u001b[0m\u001b[0;34m]\u001b[0m\u001b[0;34m,\u001b[0m \u001b[0mbackbone\u001b[0m\u001b[0;34m=\u001b[0m\u001b[0mbackbone\u001b[0m\u001b[0;34m,\u001b[0m \u001b[0mf_coreset\u001b[0m\u001b[0;34m=\u001b[0m\u001b[0mf_coreset\u001b[0m\u001b[0;34m)\u001b[0m\u001b[0;34m\u001b[0m\u001b[0;34m\u001b[0m\u001b[0m\n\u001b[0;32m---> 26\u001b[0;31m     \u001b[0mmodel\u001b[0m\u001b[0;34m.\u001b[0m\u001b[0mfit\u001b[0m\u001b[0;34m(\u001b[0m\u001b[0mtrain_paths\u001b[0m\u001b[0;34m)\u001b[0m\u001b[0;34m\u001b[0m\u001b[0;34m\u001b[0m\u001b[0m\n\u001b[0m\u001b[1;32m     27\u001b[0m     \u001b[0mmodel\u001b[0m\u001b[0;34m.\u001b[0m\u001b[0mevaluate\u001b[0m\u001b[0;34m(\u001b[0m\u001b[0mtest_paths\u001b[0m\u001b[0;34m,\u001b[0m \u001b[0mvalidation_flag\u001b[0m \u001b[0;34m=\u001b[0m \u001b[0;32mTrue\u001b[0m\u001b[0;34m)\u001b[0m\u001b[0;34m\u001b[0m\u001b[0;34m\u001b[0m\u001b[0m\n\u001b[1;32m     28\u001b[0m \u001b[0;34m\u001b[0m\u001b[0m\n",
            "\u001b[0;32m/content/Thesis_dev.py\u001b[0m in \u001b[0;36mfit\u001b[0;34m(self, train_paths, scale)\u001b[0m\n\u001b[1;32m    252\u001b[0m         \u001b[0;32mif\u001b[0m \u001b[0mself\u001b[0m\u001b[0;34m.\u001b[0m\u001b[0mf_coreset\u001b[0m \u001b[0;34m<\u001b[0m \u001b[0;36m1\u001b[0m\u001b[0;34m:\u001b[0m\u001b[0;34m\u001b[0m\u001b[0;34m\u001b[0m\u001b[0m\n\u001b[1;32m    253\u001b[0m             \u001b[0mself\u001b[0m\u001b[0;34m.\u001b[0m\u001b[0mmemory_bank\u001b[0m \u001b[0;34m=\u001b[0m \u001b[0mself\u001b[0m\u001b[0;34m.\u001b[0m\u001b[0mmemory_bank\u001b[0m\u001b[0;34m.\u001b[0m\u001b[0mdetach\u001b[0m\u001b[0;34m(\u001b[0m\u001b[0;34m)\u001b[0m                \u001b[0;31m# Removes from GPU\u001b[0m\u001b[0;34m\u001b[0m\u001b[0;34m\u001b[0m\u001b[0m\n\u001b[0;32m--> 254\u001b[0;31m             coreset_idx = self.get_coreset(\n\u001b[0m\u001b[1;32m    255\u001b[0m                 \u001b[0mself\u001b[0m\u001b[0;34m.\u001b[0m\u001b[0mmemory_bank\u001b[0m\u001b[0;34m,\u001b[0m\u001b[0;34m\u001b[0m\u001b[0;34m\u001b[0m\u001b[0m\n\u001b[1;32m    256\u001b[0m                 \u001b[0ml\u001b[0m \u001b[0;34m=\u001b[0m \u001b[0mint\u001b[0m\u001b[0;34m(\u001b[0m\u001b[0mself\u001b[0m\u001b[0;34m.\u001b[0m\u001b[0mf_coreset\u001b[0m \u001b[0;34m*\u001b[0m \u001b[0mself\u001b[0m\u001b[0;34m.\u001b[0m\u001b[0mmemory_bank\u001b[0m\u001b[0;34m.\u001b[0m\u001b[0mshape\u001b[0m\u001b[0;34m[\u001b[0m\u001b[0;36m0\u001b[0m\u001b[0;34m]\u001b[0m\u001b[0;34m)\u001b[0m\u001b[0;34m,\u001b[0m\u001b[0;34m\u001b[0m\u001b[0;34m\u001b[0m\u001b[0m\n",
            "\u001b[0;32m/content/Thesis_dev.py\u001b[0m in \u001b[0;36mget_coreset\u001b[0;34m(self, memory_bank, l, eps)\u001b[0m\n\u001b[1;32m    227\u001b[0m             \u001b[0mlast_item\u001b[0m \u001b[0;34m=\u001b[0m \u001b[0mmemory_bank\u001b[0m\u001b[0;34m[\u001b[0m\u001b[0midx\u001b[0m\u001b[0;34m:\u001b[0m \u001b[0midx\u001b[0m \u001b[0;34m+\u001b[0m \u001b[0;36m1\u001b[0m\u001b[0;34m]\u001b[0m   \u001b[0;31m# last_item = maximum patch just found\u001b[0m\u001b[0;34m\u001b[0m\u001b[0;34m\u001b[0m\u001b[0m\n\u001b[1;32m    228\u001b[0m             \u001b[0mmin_distances\u001b[0m\u001b[0;34m[\u001b[0m\u001b[0midx\u001b[0m\u001b[0;34m]\u001b[0m \u001b[0;34m=\u001b[0m \u001b[0;36m0\u001b[0m                  \u001b[0;31m# Zeroing last_item distances\u001b[0m\u001b[0;34m\u001b[0m\u001b[0;34m\u001b[0m\u001b[0m\n\u001b[0;32m--> 229\u001b[0;31m             \u001b[0mcoreset_idx\u001b[0m\u001b[0;34m.\u001b[0m\u001b[0mappend\u001b[0m\u001b[0;34m(\u001b[0m\u001b[0midx\u001b[0m\u001b[0;34m.\u001b[0m\u001b[0mto\u001b[0m\u001b[0;34m(\u001b[0m\u001b[0;34m\"cpu\"\u001b[0m\u001b[0;34m)\u001b[0m\u001b[0;34m)\u001b[0m       \u001b[0;31m# Save idx inside the coreset\u001b[0m\u001b[0;34m\u001b[0m\u001b[0;34m\u001b[0m\u001b[0m\n\u001b[0m\u001b[1;32m    230\u001b[0m \u001b[0;34m\u001b[0m\u001b[0m\n\u001b[1;32m    231\u001b[0m         \u001b[0;32mreturn\u001b[0m \u001b[0mtorch\u001b[0m\u001b[0;34m.\u001b[0m\u001b[0mstack\u001b[0m\u001b[0;34m(\u001b[0m\u001b[0mcoreset_idx\u001b[0m\u001b[0;34m)\u001b[0m\u001b[0;34m\u001b[0m\u001b[0;34m\u001b[0m\u001b[0m\n",
            "\u001b[0;31mKeyboardInterrupt\u001b[0m: "
          ]
        }
      ]
    }
  ],
  "metadata": {
    "interpreter": {
      "hash": "aee8b7b246df8f9039afb4144a1f6fd8d2ca17a180786b69acc140d282b71a49"
    },
    "kernelspec": {
      "display_name": "Python 3",
      "name": "python3"
    },
    "language_info": {
      "name": "python",
      "version": "3.10.1"
    },
    "orig_nbformat": 4,
    "colab": {
      "provenance": [],
      "collapsed_sections": [
        "siZ8eGSD5AUo",
        "4sX-3NWj49wm",
        "0O5E7WUTDuo8"
      ],
      "gpuType": "T4"
    },
    "accelerator": "GPU"
  },
  "nbformat": 4,
  "nbformat_minor": 0
}